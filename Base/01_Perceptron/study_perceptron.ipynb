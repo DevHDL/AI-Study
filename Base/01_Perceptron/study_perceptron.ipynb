{
 "cells": [
  {
   "cell_type": "code",
   "execution_count": 81,
   "metadata": {},
   "outputs": [],
   "source": [
    "import numpy as np\n",
    "import matplotlib.pyplot as plt"
   ]
  },
  {
   "cell_type": "markdown",
   "metadata": {},
   "source": [
    "### 데이터 설정\n",
    "Perceptron의 가중치를 학습하기 위한 데이터로 AND 게이트를 사용했습니다.  \n",
    "AND Gate는 다음과 같은 값을 가집니다.\n",
    "| x1 | x2 | y |\n",
    "| --- | --- | --- |\n",
    "| 0 | 0 | 0 |\n",
    "| 0 | 1 | 0 |\n",
    "| 1 | 0 | 0 |\n",
    "| 1 | 1 | 1 |"
   ]
  },
  {
   "cell_type": "code",
   "execution_count": null,
   "metadata": {},
   "outputs": [],
   "source": [
    "# AND 데이터 설정\n",
    "x = np.array([\n",
    "    [0,0], [0,1], [1,0], [1,1],\n",
    "])\n",
    "y = np.array([0,0,0,1])"
   ]
  },
  {
   "cell_type": "markdown",
   "metadata": {},
   "source": [
    "### 가중치 초기화\n",
    "학습의 주체인 가중치를 초기화 합니다.  \n",
    "가중치는 입력 수와 동일하게 2개이며, bias값도 가중치 배열에 추가합니다.  "
   ]
  },
  {
   "cell_type": "code",
   "execution_count": null,
   "metadata": {},
   "outputs": [],
   "source": [
    "# weight 초기화\n",
    "# w = [bias, w1, w2]\n",
    "w = np.array([-0.3, 0.1, 0.4])"
   ]
  },
  {
   "cell_type": "markdown",
   "metadata": {},
   "source": [
    "### 초기 가중치값과 그래프\n",
    "Perceptron은 1과 0으로 구분하는 이진 분류기 입니다.  \n",
    "\n",
    "$$ \n",
    "y = \\begin{cases}\n",
    "1 & w_1x_1+w_2x_2+b > 0 \\\\\n",
    "0 & w_1x_1+w_2x_2+b <= 0\n",
    "\\end{cases}\n",
    "$$\n",
    "\n",
    "위의 식과 같이 가중합 0보다 크면 1, 0보다 작거나 같으면 0으로 분류합니다.  "
   ]
  },
  {
   "cell_type": "code",
   "execution_count": null,
   "metadata": {},
   "outputs": [],
   "source": [
    "def show_plt():\n",
    "    plt.clf()\n",
    "    plt.scatter(x[0][0], x[0][1], c='red')\n",
    "    plt.scatter(x[1][0], x[1][1], c='red')\n",
    "    plt.scatter(x[2][0], x[2][1], c='red')\n",
    "    plt.scatter(x[3][0], x[3][1], c='blue')\n",
    "\n",
    "    line_x = np.linspace(-1,2,5)\n",
    "    line_y = -1*(1/w[2]*(w[1]*line_x + w[0]))\n",
    "    plt.plot(line_x, line_y)\n",
    "\n",
    "    plt.xlim([-0.1,1.1])\n",
    "    plt.ylim([-0.1,1.1])\n",
    "    plt.show()\n"
   ]
  },
  {
   "cell_type": "code",
   "execution_count": null,
   "metadata": {},
   "outputs": [
    {
     "data": {
      "image/png": "[encoded data removed]",
      "text/plain": [
       "<Figure size 640x480 with 1 Axes>"
      ]
     },
     "metadata": {},
     "output_type": "display_data"
    }
   ],
   "source": [
    "# 초기 선형분류 직선 출력\n",
    "show_plt()"
   ]
  },
  {
   "cell_type": "markdown",
   "metadata": {},
   "source": [
    "### Perceptron 순방향 설정\n",
    "Perceptron은 다음과 같은 과정을 통해 예측값을 출력합니다.\n",
    "1. 입력값 입력\n",
    "2. 가중합\n",
    "3. 계단함수\n",
    "4. 예측값 출력\n",
    "\n",
    "여기서 가중합은 다음을 의미합니다.\n",
    "$$ z = \\sum_i^n w_ix_i +b$$\n",
    "\n",
    "계단함수는 다음을 의미합니다.\n",
    "$$\n",
    "y = \\begin{cases}\n",
    "1 & z > 0 \\\\\n",
    "0 & z <= 0\n",
    "\\end{cases} \n",
    "$$"
   ]
  },
  {
   "cell_type": "code",
   "execution_count": null,
   "metadata": {},
   "outputs": [],
   "source": [
    "# forward 설정\n",
    "# w1*x1 + w2*x2 + b\n",
    "# 가중합이 0보다 크면 1, 아니면 0 출력\n",
    "def forward(x):\n",
    "    X = np.dot(x, w[1:]) + w[0]\n",
    "    return np.where(X > 0, 1, 0)"
   ]
  },
  {
   "cell_type": "markdown",
   "metadata": {},
   "source": [
    "### Perceptron 학습\n",
    "Perceptron 학습은 간단하게 실제값과 예측값의 오차에 대한 Learning Rate(학습률)만 설정했습니다.  "
   ]
  },
  {
   "cell_type": "code",
   "execution_count": null,
   "metadata": {},
   "outputs": [
    {
     "name": "stdout",
     "output_type": "stream",
     "text": [
      "predict (before traning) [-0.3  0.1  0.4]\n",
      "predict (after traning) [-0.35  0.1   0.35]\n"
     ]
    }
   ],
   "source": [
    "print(\"predict (before traning)\", w)\n",
    "save_weight = []\n",
    "learning_rate = 0.01\n",
    "\n",
    "for epoch in range(10):\n",
    "    for x_val, y_val in zip(x,y):\n",
    "        update = learning_rate * (y_val - forward(x_val))\n",
    "        w[1:] += update * x_val\n",
    "        w[0] += update\n",
    "    save_weight.append(w.copy())\n",
    "\n",
    "print(\"predict (after traning)\", w)        "
   ]
  },
  {
   "cell_type": "markdown",
   "metadata": {},
   "source": [
    "다음과 같이 초기 가중치에서 변한 모습을 볼 수 있습니다.  \n",
    "분류 직선이 어떻게 바뀌었는지 그래프로 확인해 봅시다."
   ]
  },
  {
   "cell_type": "code",
   "execution_count": 89,
   "metadata": {},
   "outputs": [
    {
     "data": {
      "image/png": "[encoded data removed]",
      "text/plain": [
       "<Figure size 640x480 with 1 Axes>"
      ]
     },
     "metadata": {},
     "output_type": "display_data"
    }
   ],
   "source": [
    "show_plt()"
   ]
  },
  {
   "cell_type": "markdown",
   "metadata": {},
   "source": [
    "마지막으로 학습된 Perceptron이 실제로 AND게이트로써 잘 작동하는지 예측값을 출력해봅니다."
   ]
  },
  {
   "cell_type": "code",
   "execution_count": 90,
   "metadata": {},
   "outputs": [
    {
     "name": "stdout",
     "output_type": "stream",
     "text": [
      "[0 0] : 0\n",
      "[0 1] : 0\n",
      "[1 0] : 0\n",
      "[1 1] : 1\n"
     ]
    }
   ],
   "source": [
    "for a in x:\n",
    "    print(f'{a} : {forward(a)}')"
   ]
  },
  {
   "cell_type": "markdown",
   "metadata": {},
   "source": [
    "아래의 save_weight은 가중치가 각 학습 회차에 따라 어떻게 변했는지 보여줍니다."
   ]
  },
  {
   "cell_type": "code",
   "execution_count": 91,
   "metadata": {},
   "outputs": [
    {
     "data": {
      "text/plain": [
       "[array([-0.31,  0.1 ,  0.39]),\n",
       " array([-0.32,  0.1 ,  0.38]),\n",
       " array([-0.33,  0.1 ,  0.37]),\n",
       " array([-0.34,  0.1 ,  0.36]),\n",
       " array([-0.35,  0.1 ,  0.35]),\n",
       " array([-0.35,  0.1 ,  0.35]),\n",
       " array([-0.35,  0.1 ,  0.35]),\n",
       " array([-0.35,  0.1 ,  0.35]),\n",
       " array([-0.35,  0.1 ,  0.35]),\n",
       " array([-0.35,  0.1 ,  0.35])]"
      ]
     },
     "execution_count": 91,
     "metadata": {},
     "output_type": "execute_result"
    }
   ],
   "source": [
    "save_weight"
   ]
  }
 ],
 "metadata": {
  "kernelspec": {
   "display_name": "all-env",
   "language": "python",
   "name": "python3"
  },
  "language_info": {
   "codemirror_mode": {
    "name": "ipython",
    "version": 3
   },
   "file_extension": ".py",
   "mimetype": "text/x-python",
   "name": "python",
   "nbconvert_exporter": "python",
   "pygments_lexer": "ipython3",
   "version": "3.10.15"
  }
 },
 "nbformat": 4,
 "nbformat_minor": 2
}
