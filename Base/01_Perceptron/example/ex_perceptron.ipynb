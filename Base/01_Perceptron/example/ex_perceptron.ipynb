{
 "cells": [
  {
   "cell_type": "markdown",
   "metadata": {},
   "source": [
    "## Custom Perceptron Class 실습\n",
    "- Perceptron.py의 Perceptron Class 지정"
   ]
  },
  {
   "cell_type": "code",
   "execution_count": 1,
   "metadata": {},
   "outputs": [],
   "source": [
    "import numpy as np\n",
    "import Perceptron"
   ]
  },
  {
   "cell_type": "markdown",
   "metadata": {},
   "source": [
    "### 데이터 선택\n",
    "- AND 데이터"
   ]
  },
  {
   "cell_type": "code",
   "execution_count": 2,
   "metadata": {},
   "outputs": [],
   "source": [
    "X = np.array([\n",
    "    [0,0], [0,1], [1,0], [1,1],\n",
    "])\n",
    "y = np.array([0,0,0,1])"
   ]
  },
  {
   "cell_type": "markdown",
   "metadata": {},
   "source": [
    "### 학습\n",
    "- Input unit : 2\n",
    "- Train epochs : 100"
   ]
  },
  {
   "cell_type": "code",
   "execution_count": 3,
   "metadata": {},
   "outputs": [],
   "source": [
    "p = Perceptron.Perceptron()\n",
    "p.Input(units=2)\n",
    "p.Train(X,y, epochs=100)"
   ]
  },
  {
   "cell_type": "markdown",
   "metadata": {},
   "source": [
    "### 예측 결과"
   ]
  },
  {
   "cell_type": "code",
   "execution_count": 7,
   "metadata": {},
   "outputs": [
    {
     "name": "stdout",
     "output_type": "stream",
     "text": [
      "[0,0] : [0]\n",
      "[0,1] : [0]\n",
      "[1,0] : [0]\n",
      "[1,1] : [1]\n"
     ]
    }
   ],
   "source": [
    "print(f'[0,0] : {p.Predict([0,0])}')\n",
    "print(f'[0,1] : {p.Predict([0,1])}')\n",
    "print(f'[1,0] : {p.Predict([1,0])}')\n",
    "print(f'[1,1] : {p.Predict([1,1])}')"
   ]
  },
  {
   "cell_type": "markdown",
   "metadata": {},
   "source": [
    "- 그래프로 이진구분선 표현"
   ]
  },
  {
   "cell_type": "code",
   "execution_count": 8,
   "metadata": {},
   "outputs": [
    {
     "data": {
      "image/png": "[encoded data removed]",
      "text/plain": [
       "<Figure size 640x480 with 1 Axes>"
      ]
     },
     "metadata": {},
     "output_type": "display_data"
    }
   ],
   "source": [
    "import matplotlib.pyplot as plt\n",
    "\n",
    "plt.scatter(X[0][0], X[0][1], c='red')\n",
    "plt.scatter(X[1][0], X[1][1], c='red')\n",
    "plt.scatter(X[2][0], X[2][1], c='red')\n",
    "plt.scatter(X[3][0], X[3][1], c='blue')\n",
    "\n",
    "line_x = np.linspace(-1,2,5)\n",
    "line_y = -1*(1/p.weight[1]*(p.weight[0]*line_x + p.bias[0]))\n",
    "plt.plot(line_x, line_y)\n",
    "\n",
    "plt.xlim([-0.1,1.1])\n",
    "plt.ylim([-0.1,1.1])\n",
    "plt.show()"
   ]
  }
 ],
 "metadata": {
  "kernelspec": {
   "display_name": "jupyter-env",
   "language": "python",
   "name": "python3"
  },
  "language_info": {
   "codemirror_mode": {
    "name": "ipython",
    "version": 3
   },
   "file_extension": ".py",
   "mimetype": "text/x-python",
   "name": "python",
   "nbconvert_exporter": "python",
   "pygments_lexer": "ipython3",
   "version": "3.11.1"
  }
 },
 "nbformat": 4,
 "nbformat_minor": 2
}
